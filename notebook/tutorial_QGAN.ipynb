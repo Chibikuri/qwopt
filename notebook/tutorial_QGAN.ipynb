{
 "cells": [
  {
   "cell_type": "code",
   "execution_count": 52,
   "metadata": {
    "ExecuteTime": {
     "end_time": "2020-05-22T03:04:36.177001Z",
     "start_time": "2020-05-22T03:04:36.173303Z"
    }
   },
   "outputs": [],
   "source": [
    "# This cell is added by sphinx-gallery\n",
    "# It can be customized to whatever you like\n",
    "%matplotlib inline"
   ]
  },
  {
   "cell_type": "markdown",
   "metadata": {},
   "source": [
    "\n",
    "\n",
    "Quantum Generative Adversarial Networks with Cirq + TensorFlow\n",
    "==============================================================\n",
    "\n",
    ".. meta::\n",
    "    :property=\"og:description\": This demo constructs and trains a Quantum\n",
    "        Generative Adversarial Network (QGAN) using PennyLane, Cirq, and TensorFlow.\n",
    "    :property=\"og:image\": https://pennylane.ai/qml/_images/qgan3.png\n",
    "\n",
    "This demo constructs a Quantum Generative Adversarial Network (QGAN)\n",
    "(`Lloyd and Weedbrook\n",
    "(2018) <https://journals.aps.org/prl/abstract/10.1103/PhysRevLett.121.040502>`__,\n",
    "`Dallaire-Demers and Killoran\n",
    "(2018) <https://journals.aps.org/pra/abstract/10.1103/PhysRevA.98.012324>`__)\n",
    "using two subcircuits, a *generator* and a *discriminator*. The\n",
    "generator attempts to generate synthetic quantum data to match a pattern\n",
    "of \"real\" data, while the discriminator tries to discern real data from\n",
    "fake data (see image below). The gradient of the discriminator’s output provides a\n",
    "training signal for the generator to improve its fake generated data.\n",
    "\n",
    "|\n",
    "\n",
    ".. figure:: ../demonstrations/QGAN/qgan.png\n",
    "    :align: center\n",
    "    :width: 75%\n",
    "    :target: javascript:void(0)\n",
    "\n",
    "|\n"
   ]
  },
  {
   "cell_type": "markdown",
   "metadata": {},
   "source": [
    "Using Cirq + TensorFlow\n",
    "~~~~~~~~~~~~~~~~~~~~~~~\n",
    "PennyLane allows us to mix and match quantum devices and classical machine\n",
    "learning software. For this demo, we will link together\n",
    "Google's `Cirq <https://cirq.readthedocs.io/en/stable/>`_ and `TensorFlow <https://www.tensorflow.org/>`_ libraries.\n",
    "\n",
    "We begin by importing PennyLane, NumPy, and TensorFlow.\n",
    "\n"
   ]
  },
  {
   "cell_type": "code",
   "execution_count": 53,
   "metadata": {
    "ExecuteTime": {
     "end_time": "2020-05-22T03:04:36.719446Z",
     "start_time": "2020-05-22T03:04:36.716779Z"
    }
   },
   "outputs": [],
   "source": [
    "import pennylane as qml\n",
    "import numpy as np\n",
    "import tensorflow as tf"
   ]
  },
  {
   "cell_type": "markdown",
   "metadata": {},
   "source": [
    "We also declare a 3-qubit simulator device running in Cirq.\n",
    "\n"
   ]
  },
  {
   "cell_type": "code",
   "execution_count": 54,
   "metadata": {
    "ExecuteTime": {
     "end_time": "2020-05-22T03:04:37.071719Z",
     "start_time": "2020-05-22T03:04:37.064043Z"
    }
   },
   "outputs": [],
   "source": [
    "dev = qml.device('cirq.simulator', wires=4)"
   ]
  },
  {
   "cell_type": "markdown",
   "metadata": {},
   "source": [
    "Generator and Discriminator\n",
    "~~~~~~~~~~~~~~~~~~~~~~~~~~~\n",
    "\n",
    "In classical GANs, the starting point is to draw samples either from\n",
    "some “real data” distribution, or from the generator, and feed them to\n",
    "the discriminator. In this QGAN example, we will use a quantum circuit\n",
    "to generate the real data.\n",
    "\n",
    "For this simple example, our real data will be a qubit that has been\n",
    "rotated (from the starting state $\\left|0\\right\\rangle$) to some\n",
    "arbitrary, but fixed, state.\n",
    "\n"
   ]
  },
  {
   "cell_type": "code",
   "execution_count": 117,
   "metadata": {
    "ExecuteTime": {
     "end_time": "2020-05-22T06:04:08.575190Z",
     "start_time": "2020-05-22T06:04:08.561174Z"
    }
   },
   "outputs": [],
   "source": [
    "def real(angles, **kwargs):\n",
    "    qml.RY(0.27740551, wires=0)\n",
    "    qml.PauliX(wires =0)\n",
    "    qml.CRY(0.20273270, wires=[0, 1])\n",
    "    qml.PauliX(wires =0)\n",
    "    qml.CRY(np.pi/2, wires=[0, 1])\n",
    "    qml.CRY(np.pi/2, wires=[0, 2])\n",
    "    qml.PauliX(wires =0)\n",
    "    qml.CRY(1.42492, wires=[0, 2])\n",
    "    qml.PauliX(wires =0)"
   ]
  },
  {
   "cell_type": "markdown",
   "metadata": {},
   "source": [
    "For the generator and discriminator, we will choose the same basic\n",
    "circuit structure, but acting on different wires.\n",
    "\n",
    "Both the real data circuit and the generator will output on wire 0,\n",
    "which will be connected as an input to the discriminator. Wire 1 is\n",
    "provided as a workspace for the generator, while the discriminator’s\n",
    "output will be on wire 2.\n",
    "\n"
   ]
  },
  {
   "cell_type": "code",
   "execution_count": 118,
   "metadata": {
    "ExecuteTime": {
     "end_time": "2020-05-22T06:04:09.268762Z",
     "start_time": "2020-05-22T06:04:09.244482Z"
    }
   },
   "outputs": [],
   "source": [
    "def generator(w, **kwargs):\n",
    "    qml.Hadamard(wires=0)\n",
    "#     qml.Hadamard(wires=1)\n",
    "    \n",
    "    qml.RX(w[0], wires=0)\n",
    "    qml.RX(w[1], wires=1)\n",
    "    qml.RX(w[2], wires=2)\n",
    "    \n",
    "    qml.RY(w[3], wires=0)\n",
    "    qml.RY(w[4], wires=1)\n",
    "    qml.RY(w[5], wires=2)\n",
    "    \n",
    "    qml.RZ(w[6], wires=0)\n",
    "    qml.RZ(w[7], wires=1)\n",
    "    qml.RZ(w[8], wires=2)\n",
    "    \n",
    "    qml.CNOT(wires=[0, 1])\n",
    "    qml.CNOT(wires=[1, 2])\n",
    "    \n",
    "    qml.RX(w[9], wires=0)\n",
    "    qml.RY(w[10], wires=0)\n",
    "    qml.RZ(w[11], wires=0)\n",
    "    \n",
    "    qml.RX(w[12], wires=1)\n",
    "    qml.RY(w[13], wires=1)\n",
    "    qml.RZ(w[14], wires=1)\n",
    "\n",
    "\n",
    "def discriminator(w):\n",
    "    qml.Hadamard(wires=1)\n",
    "\n",
    "    qml.RX(w[0], wires=1)\n",
    "    qml.RX(w[1], wires=2)\n",
    "    qml.RX(w[2], wires=3)\n",
    "    \n",
    "    qml.RY(w[3], wires=1)\n",
    "    qml.RY(w[4], wires=2)\n",
    "    qml.RY(w[5], wires=3)\n",
    "    \n",
    "    qml.RZ(w[6], wires=1)\n",
    "    qml.RZ(w[7], wires=2)\n",
    "    qml.RZ(w[8], wires=3)\n",
    "    \n",
    "    qml.CNOT(wires=[1, 2])\n",
    "    qml.CNOT(wires=[2, 3])\n",
    "    \n",
    "    qml.RX(w[9], wires=2)\n",
    "    qml.RY(w[10], wires=2)\n",
    "    qml.RZ(w[11], wires=2)\n",
    "    \n",
    "    qml.RX(w[12], wires=3)\n",
    "    qml.RY(w[13], wires=3)\n",
    "    qml.RZ(w[14], wires=3)"
   ]
  },
  {
   "cell_type": "markdown",
   "metadata": {},
   "source": [
    "We create two QNodes. One where the real data source is wired up to the\n",
    "discriminator, and one where the generator is connected to the\n",
    "discriminator. In order to pass TensorFlow Variables into the quantum\n",
    "circuits, we specify the ``\"tf\"`` interface.\n",
    "\n"
   ]
  },
  {
   "cell_type": "code",
   "execution_count": 119,
   "metadata": {
    "ExecuteTime": {
     "end_time": "2020-05-22T06:04:09.589283Z",
     "start_time": "2020-05-22T06:04:09.564857Z"
    }
   },
   "outputs": [],
   "source": [
    "@qml.qnode(dev, interface=\"tf\")\n",
    "def real_disc_circuit(phi, theta, omega, disc_weights):\n",
    "    real([phi, theta, omega])\n",
    "    discriminator(disc_weights)\n",
    "    return qml.expval(qml.PauliZ(3))\n",
    "\n",
    "\n",
    "@qml.qnode(dev, interface=\"tf\")\n",
    "def gen_disc_circuit(gen_weights, disc_weights):\n",
    "    generator(gen_weights)\n",
    "    discriminator(disc_weights)\n",
    "    return qml.expval(qml.PauliZ(3))"
   ]
  },
  {
   "cell_type": "markdown",
   "metadata": {},
   "source": [
    "QGAN cost functions\n",
    "~~~~~~~~~~~~~~~~~~~\n",
    "\n",
    "There are two cost functions of interest, corresponding to the two\n",
    "stages of QGAN training. These cost functions are built from two pieces:\n",
    "the first piece is the probability that the discriminator correctly\n",
    "classifies real data as real. The second piece is the probability that the\n",
    "discriminator classifies fake data (i.e., a state prepared by the\n",
    "generator) as real.\n",
    "\n",
    "The discriminator is trained to maximize the probability of\n",
    "correctly classifying real data, while minimizing the probability of\n",
    "mistakenly classifying fake data.\n",
    "\n",
    "The generator is trained to maximize the probability that the\n",
    "discriminator accepts fake data as real.\n",
    "\n"
   ]
  },
  {
   "cell_type": "code",
   "execution_count": 120,
   "metadata": {
    "ExecuteTime": {
     "end_time": "2020-05-22T06:04:09.885942Z",
     "start_time": "2020-05-22T06:04:09.879305Z"
    }
   },
   "outputs": [],
   "source": [
    "def prob_real_true(disc_weights):\n",
    "    true_disc_output = real_disc_circuit(phi, theta, omega, disc_weights)\n",
    "    # convert to probability\n",
    "    prob_real_true = (true_disc_output + 1) / 2\n",
    "    return prob_real_true\n",
    "\n",
    "\n",
    "def prob_fake_true(gen_weights, disc_weights):\n",
    "    fake_disc_output = gen_disc_circuit(gen_weights, disc_weights)\n",
    "    # convert to probability\n",
    "    prob_fake_true = (fake_disc_output + 1) / 2\n",
    "    return prob_fake_true\n",
    "\n",
    "\n",
    "def disc_cost(disc_weights):\n",
    "    cost = prob_fake_true(gen_weights, disc_weights) - prob_real_true(disc_weights)\n",
    "    return cost\n",
    "\n",
    "\n",
    "def gen_cost(gen_weights):\n",
    "    return -prob_fake_true(gen_weights, disc_weights)"
   ]
  },
  {
   "cell_type": "markdown",
   "metadata": {},
   "source": [
    "Training the QGAN\n",
    "~~~~~~~~~~~~~~~~~\n",
    "\n",
    "We initialize the fixed angles of the “real data” circuit, as well as\n",
    "the initial parameters for both generator and discriminator. These are\n",
    "chosen so that the generator initially prepares a state on wire 0 that\n",
    "is very close to the $\\left| 1 \\right\\rangle$ state.\n",
    "\n"
   ]
  },
  {
   "cell_type": "code",
   "execution_count": 121,
   "metadata": {
    "ExecuteTime": {
     "end_time": "2020-05-22T06:04:10.309187Z",
     "start_time": "2020-05-22T06:04:10.245854Z"
    }
   },
   "outputs": [
    {
     "name": "stdout",
     "output_type": "stream",
     "text": [
      "<tf.Variable 'Variable:0' shape=(15,) dtype=float64, numpy=\n",
      "array([ 3.15923318e+00,  4.00157208e-03,  9.78737984e-03,  2.24089320e-02,\n",
      "        1.86755799e-02, -9.77277880e-03,  9.50088418e-03, -1.51357208e-03,\n",
      "       -1.03218852e-03,  4.10598502e-03,  1.44043571e-03,  1.45427351e-02,\n",
      "        7.61037725e-03,  1.21675016e-03,  4.43863233e-03])>\n"
     ]
    }
   ],
   "source": [
    "phi = np.pi / 6\n",
    "theta = np.pi / 2\n",
    "omega = np.pi / 7\n",
    "np.random.seed(0)\n",
    "eps = 1e-2\n",
    "init_gen_weights = np.array([np.pi] + [0] * 14) + \\\n",
    "                   np.random.normal(scale=eps, size=(15,))\n",
    "init_disc_weights = np.random.normal(size=(15,))\n",
    "\n",
    "gen_weights = tf.Variable(init_gen_weights)\n",
    "disc_weights = tf.Variable(init_disc_weights)\n",
    "print(gen_weights)"
   ]
  },
  {
   "cell_type": "markdown",
   "metadata": {},
   "source": [
    "We begin by creating the optimizer:\n",
    "\n"
   ]
  },
  {
   "cell_type": "code",
   "execution_count": 122,
   "metadata": {
    "ExecuteTime": {
     "end_time": "2020-05-22T06:04:10.645227Z",
     "start_time": "2020-05-22T06:04:10.638821Z"
    }
   },
   "outputs": [],
   "source": [
    "opt = tf.keras.optimizers.SGD(0.4)"
   ]
  },
  {
   "cell_type": "markdown",
   "metadata": {},
   "source": [
    "In the first stage of training, we optimize the discriminator while\n",
    "keeping the generator parameters fixed.\n",
    "\n"
   ]
  },
  {
   "cell_type": "code",
   "execution_count": 123,
   "metadata": {
    "ExecuteTime": {
     "end_time": "2020-05-22T06:05:03.962278Z",
     "start_time": "2020-05-22T06:04:11.069794Z"
    }
   },
   "outputs": [
    {
     "name": "stdout",
     "output_type": "stream",
     "text": [
      "Step 0: cost = -0.0019399821758270264\n",
      "Step 5: cost = -0.0076020509004592896\n",
      "Step 10: cost = -0.027170330286026\n",
      "Step 15: cost = -0.1009305864572525\n",
      "Step 20: cost = -0.31306858360767365\n",
      "Step 25: cost = -0.5063612759113312\n",
      "Step 30: cost = -0.576730165630579\n",
      "Step 35: cost = -0.6141441911458969\n",
      "Step 40: cost = -0.633061483502388\n",
      "Step 45: cost = -0.6403361186385155\n",
      "Step 50: cost = -0.6427197977900505\n",
      "Step 55: cost = -0.643457680940628\n",
      "Step 60: cost = -0.6436858028173447\n",
      "Step 65: cost = -0.6437596529722214\n",
      "Step 70: cost = -0.6437873989343643\n",
      "Step 75: cost = -0.6438009217381477\n",
      "Step 80: cost = -0.6438104659318924\n",
      "Step 85: cost = -0.6438182517886162\n",
      "Step 90: cost = -0.6438257843255997\n",
      "Step 95: cost = -0.6438328251242638\n"
     ]
    }
   ],
   "source": [
    "cost = lambda: disc_cost(disc_weights)\n",
    "\n",
    "for step in range(100):\n",
    "    opt.minimize(cost, disc_weights)\n",
    "    if step % 5 == 0:\n",
    "        cost_val = cost().numpy()\n",
    "        print(\"Step {}: cost = {}\".format(step, cost_val))"
   ]
  },
  {
   "cell_type": "markdown",
   "metadata": {},
   "source": [
    "At the discriminator’s optimum, the probability for the discriminator to\n",
    "correctly classify the real data should be close to one.\n",
    "\n"
   ]
  },
  {
   "cell_type": "code",
   "execution_count": 124,
   "metadata": {
    "ExecuteTime": {
     "end_time": "2020-05-22T06:05:04.013501Z",
     "start_time": "2020-05-22T06:05:03.996728Z"
    }
   },
   "outputs": [
    {
     "name": "stdout",
     "output_type": "stream",
     "text": [
      "Prob(real classified as real):  0.8142546266317368\n"
     ]
    }
   ],
   "source": [
    "print(\"Prob(real classified as real): \", prob_real_true(disc_weights).numpy())"
   ]
  },
  {
   "cell_type": "markdown",
   "metadata": {},
   "source": [
    "For comparison, we check how the discriminator classifies the\n",
    "generator’s (still unoptimized) fake data:\n",
    "\n"
   ]
  },
  {
   "cell_type": "code",
   "execution_count": 125,
   "metadata": {
    "ExecuteTime": {
     "end_time": "2020-05-22T06:05:04.068279Z",
     "start_time": "2020-05-22T06:05:04.044426Z"
    }
   },
   "outputs": [
    {
     "name": "stdout",
     "output_type": "stream",
     "text": [
      "Prob(fake classified as real):  0.17041606456041336\n"
     ]
    }
   ],
   "source": [
    "print(\"Prob(fake classified as real): \", prob_fake_true(gen_weights, disc_weights).numpy())"
   ]
  },
  {
   "cell_type": "markdown",
   "metadata": {},
   "source": [
    "In the adversarial game we now have to train the generator to better\n",
    "fool the discriminator. For this demo, we only perform one stage of the\n",
    "game. For more complex models, we would continue training the models in an\n",
    "alternating fashion until we reach the optimum point of the two-player\n",
    "adversarial game.\n",
    "\n"
   ]
  },
  {
   "cell_type": "code",
   "execution_count": 126,
   "metadata": {
    "ExecuteTime": {
     "end_time": "2020-05-22T06:05:43.707547Z",
     "start_time": "2020-05-22T06:05:04.109892Z"
    }
   },
   "outputs": [
    {
     "name": "stdout",
     "output_type": "stream",
     "text": [
      "Step 0: cost = -0.17156939208507538\n",
      "Step 5: cost = -0.19378571957349777\n",
      "Step 10: cost = -0.3354378044605255\n",
      "Step 15: cost = -0.7252762317657471\n",
      "Step 20: cost = -0.9431019332259893\n",
      "Step 25: cost = -0.9877590350806713\n",
      "Step 30: cost = -0.996944987680763\n",
      "Step 35: cost = -0.9991390050272457\n",
      "Step 40: cost = -0.9997334669315023\n",
      "Step 45: cost = -0.9999113798548933\n",
      "Step 50: cost = -0.9999688424322812\n",
      "Step 55: cost = -0.999988498377661\n",
      "Step 60: cost = -0.9999957134946271\n",
      "Step 65: cost = -0.9999981789099479\n",
      "Step 70: cost = -0.9999995012087197\n",
      "Step 75: cost = -0.9999998565759824\n",
      "Step 80: cost = -1.0000001788959167\n",
      "Step 85: cost = -1.0000002135157224\n",
      "Step 90: cost = -1.0000001683291586\n",
      "Step 95: cost = -1.000000233990138\n"
     ]
    }
   ],
   "source": [
    "cost = lambda: gen_cost(gen_weights)\n",
    "\n",
    "for step in range(100):\n",
    "    opt.minimize(cost, gen_weights)\n",
    "    if step % 5 == 0:\n",
    "        cost_val = cost().numpy()\n",
    "        print(\"Step {}: cost = {}\".format(step, cost_val))"
   ]
  },
  {
   "cell_type": "markdown",
   "metadata": {},
   "source": [
    "At the optimum of the generator, the probability for the discriminator\n",
    "to be fooled should be close to 1.\n",
    "\n"
   ]
  },
  {
   "cell_type": "code",
   "execution_count": 127,
   "metadata": {
    "ExecuteTime": {
     "end_time": "2020-05-22T06:05:43.767770Z",
     "start_time": "2020-05-22T06:05:43.745122Z"
    }
   },
   "outputs": [
    {
     "name": "stdout",
     "output_type": "stream",
     "text": [
      "Prob(fake classified as real):  1.000000295793245\n"
     ]
    }
   ],
   "source": [
    "print(\"Prob(fake classified as real): \", prob_fake_true(gen_weights, disc_weights).numpy())"
   ]
  },
  {
   "cell_type": "markdown",
   "metadata": {},
   "source": [
    "At the joint optimum the discriminator cost will be close to zero,\n",
    "indicating that the discriminator assigns equal probability to both real and\n",
    "generated data.\n",
    "\n"
   ]
  },
  {
   "cell_type": "code",
   "execution_count": 128,
   "metadata": {
    "ExecuteTime": {
     "end_time": "2020-05-22T06:05:43.931840Z",
     "start_time": "2020-05-22T06:05:43.810999Z"
    }
   },
   "outputs": [
    {
     "name": "stdout",
     "output_type": "stream",
     "text": [
      "Discriminator cost:  0.18574566916150825\n"
     ]
    }
   ],
   "source": [
    "print(\"Discriminator cost: \", disc_cost(disc_weights).numpy())"
   ]
  },
  {
   "cell_type": "markdown",
   "metadata": {},
   "source": [
    "The generator has successfully learned how to simulate the real data\n",
    "enough to fool the discriminator.\n",
    "\n",
    "Let's conclude by comparing the states of the real data circuit and the generator. We expect\n",
    "the generator to have learned to be in a state that is very close to the one prepared in the\n",
    "real data circuit. An easy way to access the state of the first qubit is through its\n",
    "`Bloch sphere <https://en.wikipedia.org/wiki/Bloch_sphere>`__ representation:\n",
    "\n"
   ]
  },
  {
   "cell_type": "code",
   "execution_count": 129,
   "metadata": {
    "ExecuteTime": {
     "end_time": "2020-05-22T06:05:44.029410Z",
     "start_time": "2020-05-22T06:05:43.965363Z"
    },
    "lines_to_next_cell": 0
   },
   "outputs": [
    {
     "name": "stdout",
     "output_type": "stream",
     "text": [
      "Real Bloch vector: [0.21168673 0.         0.96176927]\n",
      "Generator Bloch vector: [ 0.989946    0.02437505 -0.13933229]\n"
     ]
    }
   ],
   "source": [
    "obs = [qml.PauliX(0), qml.PauliY(0), qml.PauliZ(0)]\n",
    "\n",
    "bloch_vector_real = qml.map(real, obs, dev, interface=\"tf\")\n",
    "bloch_vector_generator = qml.map(generator, obs, dev, interface=\"tf\")\n",
    "\n",
    "print(\"Real Bloch vector: {}\".format(bloch_vector_real([phi, theta, omega])))\n",
    "print(\"Generator Bloch vector: {}\".format(bloch_vector_generator(gen_weights)))"
   ]
  },
  {
   "cell_type": "code",
   "execution_count": 130,
   "metadata": {
    "ExecuteTime": {
     "end_time": "2020-05-22T06:05:44.066807Z",
     "start_time": "2020-05-22T06:05:44.061503Z"
    },
    "lines_to_next_cell": 2
   },
   "outputs": [
    {
     "name": "stdout",
     "output_type": "stream",
     "text": [
      "<tf.Variable 'Variable:0' shape=(15,) dtype=float64, numpy=\n",
      "array([ 3.15923318e+00, -1.07908023e-03,  1.87523149e-02,  1.38386948e-01,\n",
      "        1.57086483e+00, -1.38184036e-04,  9.50113371e-03, -1.07914958e-03,\n",
      "       -3.13009652e-03,  4.10598502e-03,  1.44043571e-03,  1.45427351e-02,\n",
      "       -5.30614464e-02, -2.20538651e+00, -2.64677566e-02])>\n"
     ]
    }
   ],
   "source": [
    "print(gen_weights)"
   ]
  },
  {
   "cell_type": "code",
   "execution_count": 131,
   "metadata": {
    "ExecuteTime": {
     "end_time": "2020-05-22T06:05:44.151895Z",
     "start_time": "2020-05-22T06:05:44.097803Z"
    }
   },
   "outputs": [
    {
     "data": {
      "text/plain": [
       "<qiskit.circuit.instructionset.InstructionSet at 0x163cbdd50>"
      ]
     },
     "execution_count": 131,
     "metadata": {},
     "output_type": "execute_result"
    }
   ],
   "source": [
    "from qiskit import QuantumCircuit, QuantumRegister, ClassicalRegister, execute, Aer\n",
    "w = gen_weights.numpy()\n",
    "q = QuantumRegister(3)\n",
    "c = ClassicalRegister(3)\n",
    "qc = QuantumCircuit(q, c)\n",
    "qc.h(q[0])\n",
    "qc.rx(w[0], q[0])\n",
    "qc.rx(w[1], q[1])\n",
    "qc.rx(w[2], q[2])\n",
    "\n",
    "qc.ry(w[3], q[0])\n",
    "qc.ry(w[4], q[1])\n",
    "qc.ry(w[5], q[2])\n",
    "\n",
    "qc.rz(w[6], q[0])\n",
    "qc.rz(w[7], q[1])\n",
    "qc.rz(w[8], q[2])\n",
    "\n",
    "qc.cx(q[0], q[1])\n",
    "qc.cx(q[1], q[2])\n",
    "\n",
    "qc.rx(w[9], q[0])\n",
    "qc.ry(w[10], q[0])\n",
    "qc.rz(w[11], q[0])\n",
    "\n",
    "qc.rx(w[12], q[1])\n",
    "qc.ry(w[13], q[1])\n",
    "qc.rz(w[14], q[1])"
   ]
  },
  {
   "cell_type": "code",
   "execution_count": 132,
   "metadata": {
    "ExecuteTime": {
     "end_time": "2020-05-22T06:05:44.212170Z",
     "start_time": "2020-05-22T06:05:44.179296Z"
    }
   },
   "outputs": [
    {
     "name": "stdout",
     "output_type": "stream",
     "text": [
      "(-0.20678143981403752+0.03258496547420384j)\n",
      "(-0.2387806803175792+0.031624672178151486j)\n",
      "(0.403455573841265-0.09249549020817205j)\n",
      "(0.4667087529950727-0.09496931628045874j)\n",
      "(-0.40710720182628585+0.07473240481435375j)\n",
      "(-0.4703416105478664+0.07442328401141919j)\n",
      "(-0.20288683573444108+0.051936559203879934j)\n",
      "(-0.2348167048211411+0.05398754465103862j)\n"
     ]
    }
   ],
   "source": [
    "job = execute(qc, backend=Aer.get_backend(\"statevector_simulator\"))\n",
    "vec = job.result().get_statevector()\n",
    "for i in vec:\n",
    "    print(i)"
   ]
  },
  {
   "cell_type": "code",
   "execution_count": null,
   "metadata": {},
   "outputs": [],
   "source": []
  }
 ],
 "metadata": {
  "jupytext": {
   "encoding": "# -*- coding: utf-8 -*-",
   "text_representation": {
    "extension": ".py",
    "format_name": "light",
    "format_version": "1.5",
    "jupytext_version": "1.3.1"
   }
  },
  "kernelspec": {
   "display_name": "Python 3",
   "language": "python",
   "name": "python3"
  },
  "language_info": {
   "codemirror_mode": {
    "name": "ipython",
    "version": 3
   },
   "file_extension": ".py",
   "mimetype": "text/x-python",
   "name": "python",
   "nbconvert_exporter": "python",
   "pygments_lexer": "ipython3",
   "version": "3.7.4"
  },
  "varInspector": {
   "cols": {
    "lenName": 16,
    "lenType": 16,
    "lenVar": 40
   },
   "kernels_config": {
    "python": {
     "delete_cmd_postfix": "",
     "delete_cmd_prefix": "del ",
     "library": "var_list.py",
     "varRefreshCmd": "print(var_dic_list())"
    },
    "r": {
     "delete_cmd_postfix": ") ",
     "delete_cmd_prefix": "rm(",
     "library": "var_list.r",
     "varRefreshCmd": "cat(var_dic_list()) "
    }
   },
   "types_to_exclude": [
    "module",
    "function",
    "builtin_function_or_method",
    "instance",
    "_Feature"
   ],
   "window_display": false
  }
 },
 "nbformat": 4,
 "nbformat_minor": 4
}
