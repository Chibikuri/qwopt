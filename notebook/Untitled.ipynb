{
 "cells": [
  {
   "cell_type": "code",
   "execution_count": 117,
   "metadata": {
    "ExecuteTime": {
     "end_time": "2020-01-19T03:40:16.584430Z",
     "start_time": "2020-01-19T03:40:16.581250Z"
    }
   },
   "outputs": [],
   "source": [
    "import numpy as np\n",
    "import copy\n",
    "from qiskit import QuantumCircuit, QuantumRegister, Aer, execute\n",
    "np.set_printoptions(linewidth=10000, threshold=10000)"
   ]
  },
  {
   "cell_type": "code",
   "execution_count": 168,
   "metadata": {
    "ExecuteTime": {
     "end_time": "2020-01-19T03:53:01.419628Z",
     "start_time": "2020-01-19T03:53:01.404774Z"
    }
   },
   "outputs": [],
   "source": [
    "def theoretical_prob(initial, step, ptran, nq):\n",
    "        Pi_op = Pi_operator(ptran)\n",
    "        swap = swap_operator(nq)\n",
    "        operator = (2*Pi_op) - np.identity(len(Pi_op))\n",
    "        Szegedy = np.dot(operator, swap)\n",
    "        Szegedy_n = copy.copy(Szegedy)\n",
    "        print(id(Szegedy), id(Szegedy_n))\n",
    "        if step == 0:\n",
    "            init_prob = np.array([abs(i)**2 for i in initial], dtype=np.float)\n",
    "            return init_prob\n",
    "        elif step == 1:\n",
    "            prob = np.array([abs(i)**2 for i in np.dot(Szegedy, initial)],\n",
    "                            dtype=np.float)\n",
    "            return prob\n",
    "        else:\n",
    "            for n in range(step-1):\n",
    "                Szegedy_n = np.dot(Szegedy_n, Szegedy)\n",
    "            probs = np.array([abs(i)**2 for i in np.dot(initial, Szegedy_n)],\n",
    "                             dtype=np.float)\n",
    "            return probs\n",
    "\n",
    "def swap_operator(n_qubit):\n",
    "    q1 = QuantumRegister(n_qubit//2)\n",
    "    q2 = QuantumRegister(n_qubit//2)\n",
    "    qc = QuantumCircuit(q1, q2)\n",
    "    for c, t in zip(q1, q2):\n",
    "        qc.swap(c, t)\n",
    "    # FIXME\n",
    "    backend = Aer.get_backend('unitary_simulator')\n",
    "    job = execute(qc, backend=backend)\n",
    "    swap = job.result().get_unitary(qc)\n",
    "    return swap\n",
    "\n",
    "def Pi_operator(ptran):\n",
    "    '''\n",
    "    This is not a quantum operation,\n",
    "    just returning matrix\n",
    "    '''\n",
    "    lg = len(ptran)\n",
    "    psi_op = []\n",
    "    count = 0\n",
    "    for i in range(lg):\n",
    "        psi_vec = [0 for _ in range(lg**2)]\n",
    "        for j in range(lg):\n",
    "            psi_vec[count] = np.sqrt(ptran[j][i])\n",
    "            count += 1\n",
    "        psi_op.append(np.kron(np.array(psi_vec).T,\n",
    "                      np.conjugate(psi_vec)).reshape((lg**2, lg**2)))\n",
    "    Pi = psi_op[0]\n",
    "    for i in psi_op[1:]:\n",
    "        Pi = np.add(Pi, i)\n",
    "    return Pi\n",
    "\n",
    "def is_unitary(operator, tolerance=0.0001):\n",
    "    h, w = operator.shape\n",
    "    if not h == w:\n",
    "        return False\n",
    "    adjoint = np.conjugate(operator.transpose())\n",
    "    product1 = np.dot(operator, adjoint)\n",
    "    product2 = np.dot(adjoint, operator)\n",
    "    ida = np.eye(h)\n",
    "    return np.allclose(product1, ida) & np.allclose(product2, ida)\n"
   ]
  },
  {
   "cell_type": "code",
   "execution_count": 169,
   "metadata": {
    "ExecuteTime": {
     "end_time": "2020-01-19T03:53:02.628699Z",
     "start_time": "2020-01-19T03:53:02.620402Z"
    }
   },
   "outputs": [],
   "source": [
    "alpha = 0.85\n",
    "target_graph = np.array([[0, 1, 0, 0, 0, 0, 0, 1],\n",
    "                                [0, 0, 1, 0, 0, 0, 0, 0],\n",
    "                                [0, 1, 0, 1, 0, 0, 0, 0],\n",
    "                                [0, 0, 1, 0, 1, 0, 0, 0],\n",
    "                                [0, 0, 0, 1, 0, 1, 0, 0],\n",
    "                                [0, 0, 0, 0, 1, 0, 1, 0],\n",
    "                                [0, 0, 0, 0, 0, 1, 0, 1],\n",
    "                                [0, 0, 0, 0, 0, 0, 1, 0]])\n",
    "\n",
    "E = np.array([[1/8, 1/2, 0, 0, 0, 0, 0, 1/2],\n",
    "                [1/8, 0, 1/2, 0, 0, 0, 0, 0],\n",
    "                [1/8, 1/2, 0, 1/2, 0, 0, 0, 0],\n",
    "                [1/8, 0, 1/2, 0, 1/2, 0, 0, 0],\n",
    "                [1/8, 0, 0, 1/2, 0, 1/2, 0, 0],\n",
    "                [1/8, 0, 0, 0, 1/2, 0, 1/2, 0],\n",
    "                [1/8, 0, 0, 0, 0, 1/2, 0, 1/2],\n",
    "                [1/8, 0, 0, 0, 0, 0, 1/2, 0]])\n",
    "# use google matrix\n",
    "lt = len(target_graph)\n",
    "prob_dist = alpha*E + ((1-alpha)/lt)*np.ones((lt, lt))\n",
    "init_state_eight = 1/2*np.array([np.sqrt(prob_dist[j][i]) for i in range(lt) for j in range(lt)])"
   ]
  },
  {
   "cell_type": "code",
   "execution_count": 170,
   "metadata": {
    "ExecuteTime": {
     "end_time": "2020-01-19T03:53:03.668274Z",
     "start_time": "2020-01-19T03:53:03.664580Z"
    }
   },
   "outputs": [],
   "source": [
    "Pi_op = Pi_operator(prob_dist)\n",
    "operator = (2*Pi_op) - np.identity(len(Pi_op))"
   ]
  },
  {
   "cell_type": "code",
   "execution_count": 171,
   "metadata": {
    "ExecuteTime": {
     "end_time": "2020-01-19T03:53:04.750665Z",
     "start_time": "2020-01-19T03:53:04.748059Z"
    }
   },
   "outputs": [],
   "source": [
    "lo = len(operator)\n",
    "initial = np.array([0 if i != 32 else 1 for i in range(lo)])\n",
    "# initial = np.array([np.sqrt(1/lo) for i in range(lo)])"
   ]
  },
  {
   "cell_type": "code",
   "execution_count": 172,
   "metadata": {
    "ExecuteTime": {
     "end_time": "2020-01-19T03:53:08.648945Z",
     "start_time": "2020-01-19T03:53:08.597216Z"
    }
   },
   "outputs": [
    {
     "name": "stdout",
     "output_type": "stream",
     "text": [
      "5128882736 5131679664\n",
      "0 0.05790039062500003\n",
      "1 4.6801757812500036e-05\n",
      "2 1.977539062500003e-06\n",
      "3 0.0011076416015625003\n",
      "4 1.977539062500003e-06\n",
      "5 0.0011076416015625003\n",
      "6 1.977539062500003e-06\n",
      "7 4.6801757812500036e-05\n",
      "8 0.05790039062500003\n",
      "9 1.977539062500003e-06\n",
      "10 4.6801757812500036e-05\n",
      "11 0.0011076416015625003\n",
      "12 1.977539062500003e-06\n",
      "13 0.0011076416015625003\n",
      "14 1.977539062500003e-06\n",
      "15 1.977539062500003e-06\n",
      "16 0.05790039062500003\n",
      "17 4.6801757812500036e-05\n",
      "18 1.977539062500003e-06\n",
      "19 0.0262141845703125\n",
      "20 1.977539062500003e-06\n",
      "21 0.0011076416015625003\n",
      "22 1.977539062500003e-06\n",
      "23 1.977539062500003e-06\n",
      "24 0.05790039062500003\n",
      "25 1.977539062500003e-06\n",
      "26 4.6801757812500036e-05\n",
      "27 0.0011076416015625003\n",
      "28 4.6801757812500036e-05\n",
      "29 0.0011076416015625003\n",
      "30 1.977539062500003e-06\n",
      "31 1.977539062500003e-06\n",
      "32 0.521103515625\n",
      "33 0.001302758789062501\n",
      "34 0.001302758789062501\n",
      "35 0.0004212158203125004\n",
      "36 0.001302758789062501\n",
      "37 0.0004212158203125004\n",
      "38 0.001302758789062501\n",
      "39 0.001302758789062501\n",
      "40 0.05790039062500003\n",
      "41 1.977539062500003e-06\n",
      "42 1.977539062500003e-06\n",
      "43 0.0011076416015625003\n",
      "44 4.6801757812500036e-05\n",
      "45 0.0011076416015625003\n",
      "46 4.6801757812500036e-05\n",
      "47 1.977539062500003e-06\n",
      "48 0.05790039062500003\n",
      "49 1.977539062500003e-06\n",
      "50 1.977539062500003e-06\n",
      "51 0.0011076416015625003\n",
      "52 1.977539062500003e-06\n",
      "53 0.0262141845703125\n",
      "54 1.977539062500003e-06\n",
      "55 4.6801757812500036e-05\n",
      "56 0.05790039062500003\n",
      "57 1.977539062500003e-06\n",
      "58 1.977539062500003e-06\n",
      "59 0.0011076416015625003\n",
      "60 1.977539062500003e-06\n",
      "61 0.0011076416015625003\n",
      "62 4.6801757812500036e-05\n",
      "63 1.977539062500003e-06\n"
     ]
    }
   ],
   "source": [
    "ideal = theoretical_prob(initial, 2, prob_dist, 6)\n",
    "for i, v in enumerate(ideal):\n",
    "    print(i, v)"
   ]
  },
  {
   "cell_type": "code",
   "execution_count": 9,
   "metadata": {
    "ExecuteTime": {
     "end_time": "2020-01-22T05:28:22.865863Z",
     "start_time": "2020-01-22T05:28:22.863824Z"
    }
   },
   "outputs": [],
   "source": [
    "import networkx as nx\n",
    "import matplotlib.pyplot as plt"
   ]
  },
  {
   "cell_type": "code",
   "execution_count": 12,
   "metadata": {
    "ExecuteTime": {
     "end_time": "2020-01-22T05:28:56.465588Z",
     "start_time": "2020-01-22T05:28:56.282720Z"
    }
   },
   "outputs": [
    {
     "data": {
      "image/png": "[encoded data removed]",
      "text/plain": [
       "<Figure size 432x288 with 1 Axes>"
      ]
     },
     "metadata": {},
     "output_type": "display_data"
    }
   ],
   "source": [
    "target_graph = np.array([[0, 1, 0, 1],\n",
    "                                [0, 0, 1, 0],\n",
    "                                [0, 1, 0, 1],\n",
    "                                [0, 0, 1, 0]])\n",
    "G = nx.from_numpy_matrix(target_graph)\n",
    "pos = nx.layout.spring_layout(G)\n",
    "nodes = nx.draw_networkx_nodes(G, pos, node_size=1000)\n",
    "edges = nx.draw_networkx_edges(G, pos, node_size=1000, arrowstyle='->',\n",
    "                               arrowsize=10, edge_cmap=plt.cm.Blues, width=2)"
   ]
  },
  {
   "cell_type": "code",
   "execution_count": 14,
   "metadata": {
    "ExecuteTime": {
     "end_time": "2020-01-22T05:29:26.601276Z",
     "start_time": "2020-01-22T05:29:26.444938Z"
    }
   },
   "outputs": [
    {
     "data": {
      "image/png": "[encoded data removed]",
      "text/plain": [
       "<Figure size 432x288 with 1 Axes>"
      ]
     },
     "metadata": {},
     "output_type": "display_data"
    }
   ],
   "source": [
    "target_graph = np.array([[0, 1, 0, 0, 0, 0, 0, 1],\n",
    "                                [0, 0, 1, 0, 0, 0, 0, 0],\n",
    "                                [0, 1, 0, 1, 0, 0, 0, 0],\n",
    "                                [0, 0, 1, 0, 1, 0, 0, 0],\n",
    "                                [0, 0, 0, 1, 0, 1, 0, 0],\n",
    "                                [0, 0, 0, 0, 1, 0, 1, 0],\n",
    "                                [0, 0, 0, 0, 0, 1, 0, 1],\n",
    "                                [0, 0, 0, 0, 0, 0, 1, 0]])\n",
    "G = nx.from_numpy_matrix(target_graph)\n",
    "nx.draw(G)"
   ]
  },
  {
   "cell_type": "code",
   "execution_count": null,
   "metadata": {},
   "outputs": [],
   "source": []
  }
 ],
 "metadata": {
  "jupytext": {
   "text_representation": {
    "extension": ".py",
    "format_name": "light",
    "format_version": "1.5",
    "jupytext_version": "1.3.1"
   }
  },
  "kernelspec": {
   "display_name": "Python 3",
   "language": "python",
   "name": "python3"
  },
  "language_info": {
   "codemirror_mode": {
    "name": "ipython",
    "version": 3
   },
   "file_extension": ".py",
   "mimetype": "text/x-python",
   "name": "python",
   "nbconvert_exporter": "python",
   "pygments_lexer": "ipython3",
   "version": "3.7.4"
  },
  "varInspector": {
   "cols": {
    "lenName": 16,
    "lenType": 16,
    "lenVar": 40
   },
   "kernels_config": {
    "python": {
     "delete_cmd_postfix": "",
     "delete_cmd_prefix": "del ",
     "library": "var_list.py",
     "varRefreshCmd": "print(var_dic_list())"
    },
    "r": {
     "delete_cmd_postfix": ") ",
     "delete_cmd_prefix": "rm(",
     "library": "var_list.r",
     "varRefreshCmd": "cat(var_dic_list()) "
    }
   },
   "types_to_exclude": [
    "module",
    "function",
    "builtin_function_or_method",
    "instance",
    "_Feature"
   ],
   "window_display": false
  }
 },
 "nbformat": 4,
 "nbformat_minor": 4
}
